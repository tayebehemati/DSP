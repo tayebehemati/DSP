from PIL import Image
import numpy as np

# تبدیل تصویر به سیاه و سفید
image = Image.open("photo_5911405266535040461_y.jpg").convert("L")

# تغییر اندازه تصویر برای اینکه راحت‌تر قابل مشاهده باشد
image = image.resize((100, 50))

# تبدیل تصویر به پیکسل‌ها
pixels = np.array(image)

# تعریف کاراکترهای مختلف برای نمایش پیکسل‌های مختلف
chars = ["@", "#", "S", "%", "?", "*", "+", ";", ":", ",", "."]

# ایجاد کد ASCII
ascii_image = ""
for pixel_row in pixels:
    for pixel in pixel_row:
        ascii_image += chars[pixel // 25]  # تقسیم پیکسل‌ها به مقادیر مختلف
    ascii_image += "\n"

# نمایش کد ASCII
print(ascii_image)
