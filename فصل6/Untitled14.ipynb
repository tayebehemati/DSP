{
 "cells": [
  {
   "cell_type": "code",
   "execution_count": null,
   "id": "67c06cd5-fcac-494b-bda8-5bf71ee1e0ee",
   "metadata": {},
   "outputs": [],
   "source": []
  }
 ],
 "metadata": {
  "kernelspec": {
   "display_name": "",
   "name": ""
  },
  "language_info": {
   "name": ""
  }
 },
 "nbformat": 4,
 "nbformat_minor": 5
}
